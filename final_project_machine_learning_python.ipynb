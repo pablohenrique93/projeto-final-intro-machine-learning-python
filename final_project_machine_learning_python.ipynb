{
  "nbformat": 4,
  "nbformat_minor": 0,
  "metadata": {
    "colab": {
      "provenance": [],
      "toc_visible": true,
      "authorship_tag": "ABX9TyMN+KHzJoSLhivgUMlahywf",
      "include_colab_link": true
    },
    "kernelspec": {
      "name": "python3",
      "display_name": "Python 3"
    },
    "language_info": {
      "name": "python"
    }
  },
  "cells": [
    {
      "cell_type": "markdown",
      "metadata": {
        "id": "view-in-github",
        "colab_type": "text"
      },
      "source": [
        "<a href=\"https://colab.research.google.com/github/pablohenrique93/projeto-final-intro-machine-learning-python/blob/main/final_project_machine_learning_python.ipynb\" target=\"_parent\"><img src=\"https://colab.research.google.com/assets/colab-badge.svg\" alt=\"Open In Colab\"/></a>"
      ]
    },
    {
      "cell_type": "markdown",
      "source": [
        "#Instalação das Bibliotecas"
      ],
      "metadata": {
        "id": "8sa-IIPORXs0"
      }
    },
    {
      "cell_type": "code",
      "execution_count": null,
      "metadata": {
        "id": "tZBxSvmSOjtN"
      },
      "outputs": [],
      "source": [
        "#Instalação da biblioteca para pré-processamento de dados \n",
        "pip install pandera"
      ]
    },
    {
      "cell_type": "code",
      "source": [
        "#Instalação do plotly para visualização de dados\n",
        "pip install plotly --upgrade"
      ],
      "metadata": {
        "id": "YeKC4PSoQfN9"
      },
      "execution_count": null,
      "outputs": []
    },
    {
      "cell_type": "code",
      "source": [
        "# Instalação do yellowbrick para trabalhar com Machine Learning\n",
        "!pip -q install yellowbrick"
      ],
      "metadata": {
        "id": "cZsNxm6rRBHH"
      },
      "execution_count": 3,
      "outputs": []
    },
    {
      "cell_type": "markdown",
      "source": [
        "#Importação das Bibliotecas"
      ],
      "metadata": {
        "id": "7rJcQShnRfBE"
      }
    },
    {
      "cell_type": "code",
      "source": [
        "import pandas as pd\n",
        "import numpy as np\n",
        "import seaborn as sns\n",
        "import matplotlib.pyplot as plt\n",
        "import plotly.express as px"
      ],
      "metadata": {
        "id": "FfliV9JlRjQR"
      },
      "execution_count": 4,
      "outputs": []
    },
    {
      "cell_type": "markdown",
      "source": [
        "#Exploração dos Dados"
      ],
      "metadata": {
        "id": "hk5sTnEERrWc"
      }
    },
    {
      "cell_type": "code",
      "source": [
        "base_predictive = pd.read_csv('/content/predictive_maintenance.csv')"
      ],
      "metadata": {
        "id": "CKgHk8SMRuwN"
      },
      "execution_count": 5,
      "outputs": []
    },
    {
      "cell_type": "code",
      "source": [
        "#Visualizando o dataframe\n",
        "base_predictive.head()"
      ],
      "metadata": {
        "id": "stI2rSiXSSSF"
      },
      "execution_count": null,
      "outputs": []
    },
    {
      "cell_type": "code",
      "source": [
        "base_predictive.tail()"
      ],
      "metadata": {
        "id": "X5ku18Z5Sdgi"
      },
      "execution_count": null,
      "outputs": []
    },
    {
      "cell_type": "code",
      "source": [
        "#Verificando os tipos das colunas\n",
        "base_predictive.dtypes"
      ],
      "metadata": {
        "id": "KaRNQOOsSkqu"
      },
      "execution_count": null,
      "outputs": []
    },
    {
      "cell_type": "code",
      "source": [
        "#Verificando o tamanho da base\n",
        "base_predictive.shape"
      ],
      "metadata": {
        "id": "3rDyhz-SS-ws"
      },
      "execution_count": null,
      "outputs": []
    },
    {
      "cell_type": "markdown",
      "source": [
        "#Tratamento dos Dados"
      ],
      "metadata": {
        "id": "K42Qzfr8TmLF"
      }
    },
    {
      "cell_type": "code",
      "source": [
        "pd.unique(base_predictive['Product ID'])"
      ],
      "metadata": {
        "id": "APABfaF9jG8e"
      },
      "execution_count": null,
      "outputs": []
    },
    {
      "cell_type": "code",
      "source": [
        "pd.unique(base_predictive['Type'])"
      ],
      "metadata": {
        "id": "h4JHr53kVpOE"
      },
      "execution_count": null,
      "outputs": []
    },
    {
      "cell_type": "code",
      "source": [
        "pd.unique(base_predictive['Air temperature [K]'])"
      ],
      "metadata": {
        "id": "Cij7MJ7PV4oU"
      },
      "execution_count": null,
      "outputs": []
    },
    {
      "cell_type": "code",
      "source": [
        "pd.unique(base_predictive['Process temperature [K]'])"
      ],
      "metadata": {
        "id": "gSeiyIVbWAy8"
      },
      "execution_count": null,
      "outputs": []
    },
    {
      "cell_type": "code",
      "source": [
        "pd.unique(base_predictive['Rotational speed [rpm]'])"
      ],
      "metadata": {
        "id": "8YRp_55hWHvU"
      },
      "execution_count": null,
      "outputs": []
    },
    {
      "cell_type": "code",
      "source": [
        "pd.unique(base_predictive['Torque [Nm]'])"
      ],
      "metadata": {
        "id": "jPk90uAxWQfz"
      },
      "execution_count": null,
      "outputs": []
    },
    {
      "cell_type": "code",
      "source": [
        "pd.unique(base_predictive['Tool wear [min]'])"
      ],
      "metadata": {
        "id": "xvq9LB6XWa2L"
      },
      "execution_count": null,
      "outputs": []
    },
    {
      "cell_type": "code",
      "source": [
        "pd.unique(base_predictive['Target']) "
      ],
      "metadata": {
        "id": "7oYiiqgOWpjE"
      },
      "execution_count": null,
      "outputs": []
    },
    {
      "cell_type": "code",
      "source": [
        "pd.unique(base_predictive['Failure Type']) "
      ],
      "metadata": {
        "id": "w-fgQkn4Wvbs"
      },
      "execution_count": null,
      "outputs": []
    },
    {
      "cell_type": "markdown",
      "source": [
        "#Limpeza de Inconsistências e Padronização de Colunas"
      ],
      "metadata": {
        "id": "aowrgainYO_L"
      }
    },
    {
      "cell_type": "code",
      "source": [
        "base_predictive.dtypes"
      ],
      "metadata": {
        "id": "T9IbyLmQZALE"
      },
      "execution_count": null,
      "outputs": []
    },
    {
      "cell_type": "code",
      "source": [
        "#Renomeação e tradução das colunas com o objetivo de facilitar o entendimento dos dados\n",
        "base_predictive.rename(columns={\n",
        "    'UDI':'id',\n",
        "    'Product ID':'qualidade_produto',\n",
        "    'Type':'tipo',\n",
        "    'Air temperature [K]':'temperatura_ar_k',\n",
        "    'Process temperature [K]':'temperatura_processo_k',\n",
        "    'Rotational speed [rpm]':'velocidade_rotacao_rpm',\n",
        "    'Torque [Nm]':'torque_nm',\n",
        "    'Tool wear [min]':'desgaste_ferramenta_min',\n",
        "    'Target':'falha_ou_nao',\n",
        "    'Failure Type':'tipo_falha'\n",
        "},inplace=True)"
      ],
      "metadata": {
        "id": "C8M9oGXNYpOj"
      },
      "execution_count": 19,
      "outputs": []
    },
    {
      "cell_type": "code",
      "source": [
        "#Traduzindo dados dentro da coluna \"tipo falha\", para facilitar o entendimento\n",
        "base_predictive.replace({'tipo_falha':'No Failure'}, 'Sem Falhas',regex=True, inplace=True)\n",
        "base_predictive.replace({'tipo_falha':'Power Failure'}, 'Falha de Energia',regex=True, inplace=True)\n",
        "base_predictive.replace({'tipo_falha':'Tool Wear Failure'}, 'Falha no Desgaste de Ferramentas',regex=True, inplace=True)\n",
        "base_predictive.replace({'tipo_falha':'Overstrain Failure'}, 'Falha de Sobrecarga',regex=True, inplace=True)\n",
        "base_predictive.replace({'tipo_falha':'Random Failures'}, 'Falhas Aleatórias',regex=True, inplace=True)\n",
        "base_predictive.replace({'tipo_falha':'Heat Dissipation Failure'}, 'Falha na Dissipação de Calor',regex=True, inplace=True)"
      ],
      "metadata": {
        "id": "zKKecG5rnAkl"
      },
      "execution_count": 20,
      "outputs": []
    },
    {
      "cell_type": "code",
      "source": [
        "#Conferindo coluna pós manipulação\n",
        "pd.unique(base_predictive['tipo_falha'])"
      ],
      "metadata": {
        "id": "bSauJ33QpZ_W"
      },
      "execution_count": null,
      "outputs": []
    },
    {
      "cell_type": "markdown",
      "source": [
        "Verificação de Dados Faltantes"
      ],
      "metadata": {
        "id": "RJ3-zfSjvrH_"
      }
    },
    {
      "cell_type": "code",
      "source": [
        "base_predictive.isnull()"
      ],
      "metadata": {
        "id": "whY--2qrvDvl"
      },
      "execution_count": null,
      "outputs": []
    },
    {
      "cell_type": "code",
      "source": [
        "#Como este dataframe é grande, faz-se necessário a utilização deste código para verificar valores nulos\n",
        "base_predictive.isnull().sum()\n",
        "#Como podemos observar não existe valores nulos neste dataframe"
      ],
      "metadata": {
        "id": "flrQKHNtv_a8"
      },
      "execution_count": null,
      "outputs": []
    },
    {
      "cell_type": "markdown",
      "source": [
        "#Visualização dos Dados"
      ],
      "metadata": {
        "id": "6YXxsrpHUXmM"
      }
    },
    {
      "cell_type": "code",
      "source": [
        "#Código para exibir os registros da coluna 'falha_ou_nao' assim como quantas vezes os mesmos aparecerem\n",
        "np.unique(base_predictive['falha_ou_nao'], return_counts=True)"
      ],
      "metadata": {
        "id": "_WM0cC_0Uafc"
      },
      "execution_count": null,
      "outputs": []
    },
    {
      "cell_type": "code",
      "source": [
        "# 0 NÃO HOUVE FALHA\n",
        "# 1 HOUVE FALHA \n",
        "#Plot utilizando seaborn para visualização dos registros da coluna 'falha_ou_nao'\n",
        "sns.countplot(x=base_predictive['falha_ou_nao']); "
      ],
      "metadata": {
        "id": "kjMloLMyVDa3"
      },
      "execution_count": null,
      "outputs": []
    },
    {
      "cell_type": "code",
      "source": [
        "#Código para exibir os registros da coluna 'tipo falha' assim como quantas vezes os mesmos ocorrem\n",
        "np.unique(base_predictive['tipo_falha'], return_counts=True)"
      ],
      "metadata": {
        "id": "HY5PLnG9qJEl"
      },
      "execution_count": null,
      "outputs": []
    },
    {
      "cell_type": "code",
      "source": [
        "#Visualização de registros da coluna 'tipo_falha' (OBS: é possível notar que a maioria não sofreu falhas) \n",
        "plt.hist(x=base_predictive['tipo_falha']);"
      ],
      "metadata": {
        "id": "vhCUz_hbVT7X"
      },
      "execution_count": null,
      "outputs": []
    },
    {
      "cell_type": "code",
      "source": [
        "#Visualização de registros da coluna 'tipo', constituída por uma letra L, M, ou H, para (L) baixo \n",
        "#(50% de todos os produtos), (M) médio (30%), e (H) alto (20%) como variantes de qualidade do produto\n",
        "plt.hist(x=base_predictive['tipo']);"
      ],
      "metadata": {
        "id": "xpE5KdY6TpXN"
      },
      "execution_count": null,
      "outputs": []
    },
    {
      "cell_type": "code",
      "source": [
        "#Visualização dos índices de temperatura de processo\n",
        "plt.hist(x=base_predictive['temperatura_processo_k']);"
      ],
      "metadata": {
        "id": "Y2Anq_xVsBfl"
      },
      "execution_count": null,
      "outputs": []
    },
    {
      "cell_type": "code",
      "source": [
        "#Visualização dos índices de velocidade de rotação \n",
        "plt.hist(x=base_predictive['velocidade_rotacao_rpm']);"
      ],
      "metadata": {
        "id": "RJuGbpHzstBa"
      },
      "execution_count": null,
      "outputs": []
    },
    {
      "cell_type": "markdown",
      "source": [
        "#Divisão dos Previsores e Classes"
      ],
      "metadata": {
        "id": "BX4_EP3xwkms"
      }
    },
    {
      "cell_type": "markdown",
      "source": [
        "PREVISORES são as variáveis que vão ser utilizadas para fazer as previsões\n",
        "\n",
        "CLASSES: São os objetivos daquilo que queremos prever"
      ],
      "metadata": {
        "id": "TsLu8s0pxiJp"
      }
    },
    {
      "cell_type": "code",
      "source": [
        "base_predictive"
      ],
      "metadata": {
        "id": "F7eT95YewkK9"
      },
      "execution_count": null,
      "outputs": []
    },
    {
      "cell_type": "code",
      "source": [
        "#Previsores\n",
        "X_base_predictive = base_predictive.iloc[:, 3:8].values"
      ],
      "metadata": {
        "id": "4wJUXm9_1wTm"
      },
      "execution_count": 33,
      "outputs": []
    },
    {
      "cell_type": "code",
      "source": [
        "#Conferindo o novo dataframe/Previsores\n",
        "X_base_predictive"
      ],
      "metadata": {
        "id": "ZXb5mH_135ax"
      },
      "execution_count": null,
      "outputs": []
    },
    {
      "cell_type": "code",
      "source": [
        "#Classes\n",
        "Y_base_predictive = base_predictive.iloc[:, 8].values"
      ],
      "metadata": {
        "id": "SnsKgHcz5mI9"
      },
      "execution_count": 35,
      "outputs": []
    },
    {
      "cell_type": "code",
      "source": [
        "#Conferindo o novo dataframe/Classe\n",
        "Y_base_predictive"
      ],
      "metadata": {
        "id": "j3P6rcZN53Rs"
      },
      "execution_count": null,
      "outputs": []
    },
    {
      "cell_type": "code",
      "source": [
        "#Conferindo e comparando os tipos de cada dataframe\n",
        "type(base_predictive)"
      ],
      "metadata": {
        "id": "R-GANOcq6YMN"
      },
      "execution_count": null,
      "outputs": []
    },
    {
      "cell_type": "code",
      "source": [
        "#Os dataframes que serão trabalhados serão arrays de Numpy\n",
        "type(X_base_predictive)\n",
        "type(Y_base_predictive)"
      ],
      "metadata": {
        "id": "WKyu-hEI6oDq"
      },
      "execution_count": null,
      "outputs": []
    },
    {
      "cell_type": "markdown",
      "source": [
        "#Escalonamento de Valores"
      ],
      "metadata": {
        "id": "6CLjp-JY7X4D"
      }
    },
    {
      "cell_type": "code",
      "source": [
        "X_base_predictive"
      ],
      "metadata": {
        "id": "5AmSsgJp7b_Z"
      },
      "execution_count": null,
      "outputs": []
    },
    {
      "cell_type": "code",
      "source": [
        "#Neste comando pegamos o menor elemento das colunas seguido dos seus índices\n",
        "X_base_predictive[:, 0].min(), X_base_predictive[:, 1].min(), X_base_predictive[:, 2].min(), X_base_predictive[:, 3].min(), X_base_predictive[:, 4].min()\n",
        "#É possível notar que os valores estão bem desbalanceados"
      ],
      "metadata": {
        "id": "vefS1Nha7rJe"
      },
      "execution_count": null,
      "outputs": []
    },
    {
      "cell_type": "code",
      "source": [
        "#A mesma situação ocorre com valores máximos\n",
        "X_base_predictive[:, 0].max(), X_base_predictive[:, 1].max(), X_base_predictive[:, 2].max(), X_base_predictive[:, 3].max(), X_base_predictive[:, 4].max()"
      ],
      "metadata": {
        "id": "RSP9xWDf8Y89"
      },
      "execution_count": null,
      "outputs": []
    },
    {
      "cell_type": "markdown",
      "source": [
        "Dois modelos de escalonamento\n",
        "\n",
        "1 - Padronização - \n",
        "Utilizado quando existe um desvio muito grande de valores da média x = x - media(x)/desvio padrão(x)\n",
        "\n",
        "2- Normalização -\n",
        "Quando temos diferenças muito pequenas nos valores e queremos que os valores se comportem da mesma maneira x = x - mínimo(x)/máximo(x) - mínimo(x)"
      ],
      "metadata": {
        "id": "ckIYaErI9GbU"
      }
    },
    {
      "cell_type": "code",
      "source": [
        "#Neste caso utilizaremos a Padronização devido diferença grande entre os valores, como observado"
      ],
      "metadata": {
        "id": "QizvlaQH8-cR"
      },
      "execution_count": 42,
      "outputs": []
    },
    {
      "cell_type": "code",
      "source": [
        "# Para realizar esta operação utilizamos o StandardScaler\n",
        "from sklearn.preprocessing import StandardScaler"
      ],
      "metadata": {
        "id": "B_MM6jJa9guy"
      },
      "execution_count": 43,
      "outputs": []
    },
    {
      "cell_type": "code",
      "source": [
        "#Instanciando a biblioteca e posteriormente padronizando o X_base_predictive (Previsor)\n",
        "scaler_credit = StandardScaler()\n",
        "X_base_predictive = scaler_credit.fit_transform(X_base_predictive)"
      ],
      "metadata": {
        "id": "FCSj8rql9qOh"
      },
      "execution_count": 44,
      "outputs": []
    },
    {
      "cell_type": "code",
      "source": [
        "X_base_predictive"
      ],
      "metadata": {
        "id": "gOdCKVyt_uKo"
      },
      "execution_count": null,
      "outputs": []
    },
    {
      "cell_type": "code",
      "source": [
        "#Verificando os valores que já foram aproximados\n",
        "X_base_predictive[:, 0].min(), X_base_predictive[:, 1].min(), X_base_predictive[:, 2].min(), X_base_predictive[:, 3].min(), X_base_predictive[:, 4].min()"
      ],
      "metadata": {
        "id": "TCLcPmZB_Ep2"
      },
      "execution_count": null,
      "outputs": []
    },
    {
      "cell_type": "code",
      "source": [
        "X_base_predictive[:, 0].max(), X_base_predictive[:, 1].max(), X_base_predictive[:, 2].max(), X_base_predictive[:, 3].max(), X_base_predictive[:, 4].max()"
      ],
      "metadata": {
        "id": "ZlGsrQkAE5zx"
      },
      "execution_count": null,
      "outputs": []
    },
    {
      "cell_type": "code",
      "source": [
        "X_base_predictive"
      ],
      "metadata": {
        "id": "eMPixY56FHpj"
      },
      "execution_count": null,
      "outputs": []
    },
    {
      "cell_type": "markdown",
      "source": [
        "# Divisão de Bases em Treinamento e Teste"
      ],
      "metadata": {
        "id": "Sy4QfVZCdU83"
      }
    },
    {
      "cell_type": "markdown",
      "source": [
        "Os algaritmos de Machine Learning precisam de uma base de treinamento e uma base para testar nossas previsões.\\n\n",
        "OBS: ELAS NÃO PODEM SER IGUAIS"
      ],
      "metadata": {
        "id": "y8lzicQkddpu"
      }
    },
    {
      "cell_type": "code",
      "source": [
        "from sklearn.model_selection import train_test_split"
      ],
      "metadata": {
        "id": "Y36ESIr4dXD-"
      },
      "execution_count": 49,
      "outputs": []
    },
    {
      "cell_type": "code",
      "source": [
        "X_predictive_treinamento, X_predictive_teste, Y_predictive_treinamento, Y_predictive_teste = train_test_split(X_base_predictive, Y_base_predictive, test_size = 0.25, random_state = 0)"
      ],
      "metadata": {
        "id": "HF5Rkdl9ey7O"
      },
      "execution_count": 50,
      "outputs": []
    },
    {
      "cell_type": "code",
      "source": [
        "#Conferindo as bases\n",
        "X_predictive_treinamento.shape, Y_predictive_treinamento.shape"
      ],
      "metadata": {
        "id": "i6oHePBvfjYl"
      },
      "execution_count": null,
      "outputs": []
    },
    {
      "cell_type": "code",
      "source": [
        "X_predictive_teste.shape, Y_predictive_teste.shape"
      ],
      "metadata": {
        "id": "19qqHk62f6z9"
      },
      "execution_count": null,
      "outputs": []
    },
    {
      "cell_type": "markdown",
      "source": [
        "# Salvando as Variáveis"
      ],
      "metadata": {
        "id": "zCKflz8egxdK"
      }
    },
    {
      "cell_type": "code",
      "source": [
        "import pickle"
      ],
      "metadata": {
        "id": "hULU8dYfg2Ko"
      },
      "execution_count": 53,
      "outputs": []
    },
    {
      "cell_type": "code",
      "source": [
        "#Salvando as variáveis da base em um ficheiro\n",
        "with open('predictive.pkl', mode = 'wb') as f:\n",
        "  pickle.dump([X_predictive_treinamento, Y_predictive_treinamento, X_predictive_teste, Y_predictive_teste], f)"
      ],
      "metadata": {
        "id": "0aYUFs2ThB_W"
      },
      "execution_count": null,
      "outputs": []
    },
    {
      "cell_type": "markdown",
      "source": [
        "# Algoritmo de Naive Bayes"
      ],
      "metadata": {
        "id": "RpsPyt5oiMy9"
      }
    },
    {
      "cell_type": "code",
      "source": [
        "#Através deste algoritmo, verificaremos com base em características se houve falha ou não na máquina"
      ],
      "metadata": {
        "id": "AOudvtsZjhpR"
      },
      "execution_count": 54,
      "outputs": []
    },
    {
      "cell_type": "code",
      "source": [
        "#Importação da biblioteca necessária\n",
        "from sklearn.naive_bayes import GaussianNB"
      ],
      "metadata": {
        "id": "w5BGy354iXMm"
      },
      "execution_count": 55,
      "outputs": []
    },
    {
      "cell_type": "code",
      "source": [
        "#Fazendo o carregamento dos arquivos salvos\n",
        "with open('/content/predictive.pkl', 'rb') as f:\n",
        "  X_predictive_treinamento, Y_predictive_treinamento, X_predictive_teste, Y_predictive_teste = pickle.load(f)"
      ],
      "metadata": {
        "id": "rAkAoWYyi8we"
      },
      "execution_count": 56,
      "outputs": []
    },
    {
      "cell_type": "code",
      "source": [
        "#Verificando se os arquivos foram devidamente carregados\n",
        "X_predictive_treinamento.shape, Y_predictive_treinamento.shape"
      ],
      "metadata": {
        "id": "vU4RSkC0kmuA"
      },
      "execution_count": null,
      "outputs": []
    },
    {
      "cell_type": "code",
      "source": [
        "X_predictive_teste.shape, Y_predictive_teste.shape"
      ],
      "metadata": {
        "id": "zK-TsE8UkzYb"
      },
      "execution_count": null,
      "outputs": []
    },
    {
      "cell_type": "code",
      "source": [
        "#Criação do algoritmo para fazer as previsões\n",
        "naive_predictive = GaussianNB()\n",
        "naive_predictive.fit(X_predictive_treinamento, Y_predictive_treinamento)"
      ],
      "metadata": {
        "id": "2HUVORoxk8aN"
      },
      "execution_count": null,
      "outputs": []
    },
    {
      "cell_type": "code",
      "source": [
        "#Realização das Previsões\n",
        "previsoes = naive_predictive.predict(X_predictive_teste)"
      ],
      "metadata": {
        "id": "N3ZCCg8slqoF"
      },
      "execution_count": 60,
      "outputs": []
    },
    {
      "cell_type": "code",
      "source": [
        "#Previsoes apresentadas\n",
        "previsoes"
      ],
      "metadata": {
        "id": "FygMxPVpmkfM"
      },
      "execution_count": null,
      "outputs": []
    },
    {
      "cell_type": "code",
      "source": [
        "#Em comparação com o resultado anterior, é possível notar que o algoritmo conseguiu prever a maioria dos resultados,\n",
        "#retornando os valores idênticos ao original, onde não houveram falhas nas máquinas, indicando uma taxa alta de Acerto\n",
        "Y_predictive_teste"
      ],
      "metadata": {
        "id": "OOsYK7CimtZm"
      },
      "execution_count": null,
      "outputs": []
    },
    {
      "cell_type": "code",
      "source": [
        "#Importação da biblioteca para medição precisão\n",
        "from sklearn.metrics import accuracy_score, confusion_matrix"
      ],
      "metadata": {
        "id": "TjXbfb_goaRg"
      },
      "execution_count": 63,
      "outputs": []
    },
    {
      "cell_type": "code",
      "source": [
        "#Com este código é possível fazer a associação entre o original e a previsão realizada\n",
        "accuracy_score(Y_predictive_teste, previsoes)\n",
        "#É possivel notar que a precisão é de 96%, ou seja, bem alta"
      ],
      "metadata": {
        "id": "mtL9ey8focSs"
      },
      "execution_count": null,
      "outputs": []
    },
    {
      "cell_type": "code",
      "source": [
        "confusion_matrix(Y_predictive_teste, previsoes)\n",
        "#Como podemos observar, é possível verificar que 2387 máquinas não sofrem falhas e 25 sofrem\n",
        "#E de 72 máquinas que sofrem falhas 16 foram classificadas que sofrem falhas"
      ],
      "metadata": {
        "id": "Efs8NKPQpISd"
      },
      "execution_count": null,
      "outputs": []
    },
    {
      "cell_type": "code",
      "source": [
        "#Importação da biblioteca para conferência desta situação de maneira visual (Conferir no final deste caderno)\n",
        "from yellowbrick.classifier import ConfusionMatrix"
      ],
      "metadata": {
        "id": "XBlVXVn5rE3t"
      },
      "execution_count": 66,
      "outputs": []
    },
    {
      "cell_type": "markdown",
      "source": [
        "#Algoritmo de Árvore de Decisão (Decision Tree)"
      ],
      "metadata": {
        "id": "47Oq3Hm8KVaQ"
      }
    },
    {
      "cell_type": "markdown",
      "source": [
        "Esse algoritmo cria uma árvore com vários \"nós\" onde ele faz algumas buscas de acordo com algumas características que ele encontra"
      ],
      "metadata": {
        "id": "trZWvDKOLhlY"
      }
    },
    {
      "cell_type": "code",
      "source": [
        "#Importação da biblioteca\n",
        "from sklearn.tree import DecisionTreeClassifier"
      ],
      "metadata": {
        "id": "MDZZ4ecPLXLs"
      },
      "execution_count": 67,
      "outputs": []
    },
    {
      "cell_type": "code",
      "source": [
        "#Fazendo o carregamento dos arquivos salvos\n",
        "with open('/content/predictive.pkl', 'rb') as f:\n",
        "  X_predictive_treinamento, Y_predictive_treinamento, X_predictive_teste, Y_predictive_teste = pickle.load(f)"
      ],
      "metadata": {
        "id": "PQu1lu6qLwPI"
      },
      "execution_count": 68,
      "outputs": []
    },
    {
      "cell_type": "code",
      "source": [
        "#Verificando se os arquivos foram devidamente carregados\n",
        "X_predictive_treinamento.shape, Y_predictive_treinamento.shape"
      ],
      "metadata": {
        "id": "QnemoKCfMRus"
      },
      "execution_count": null,
      "outputs": []
    },
    {
      "cell_type": "code",
      "source": [
        "X_predictive_teste.shape, Y_predictive_teste.shape"
      ],
      "metadata": {
        "id": "YDXSf_atMaUN"
      },
      "execution_count": null,
      "outputs": []
    },
    {
      "cell_type": "code",
      "source": [
        "from sklearn.preprocessing import LabelEncoder\n",
        "le = LabelEncoder()\n",
        "Y_predictive_treinamento = le.fit_transform(Y_predictive_treinamento)"
      ],
      "metadata": {
        "id": "-MEM9lwAMkJj"
      },
      "execution_count": 71,
      "outputs": []
    },
    {
      "cell_type": "code",
      "source": [
        "#Criação da árvore de decisão\n",
        "# 'criterion='entropy' - Variável utilizada para fazer cálculo matemático\n",
        "#Parte da premissa que toda informação que vai percorrer algum canal vai sofrer alguma alteração isso se chama entropia\n",
        "arvore_predictive = DecisionTreeClassifier(criterion='entropy', random_state=0)\n",
        "arvore_predictive.fit(X_predictive_treinamento, Y_predictive_treinamento)"
      ],
      "metadata": {
        "id": "Aogepg-yNINq"
      },
      "execution_count": null,
      "outputs": []
    },
    {
      "cell_type": "code",
      "source": [
        "#Exibindo valores que o algoritmo julga ser importante para realizar os cálculos\n",
        "arvore_predictive.feature_importances_"
      ],
      "metadata": {
        "id": "93xhf1IxZNVw"
      },
      "execution_count": null,
      "outputs": []
    },
    {
      "cell_type": "code",
      "source": [
        "#Exibindo as classes que o algoritmo vai utilizar como parâmetro\n",
        "arvore_predictive.classes_"
      ],
      "metadata": {
        "id": "2qXhI6-KRv9j"
      },
      "execution_count": null,
      "outputs": []
    },
    {
      "cell_type": "code",
      "source": [
        "#Criando previsões\n",
        "previsoes2 = arvore_predictive.predict(X_predictive_teste)\n",
        "previsoes2"
      ],
      "metadata": {
        "id": "8kGEKgAUOO8K"
      },
      "execution_count": null,
      "outputs": []
    },
    {
      "cell_type": "code",
      "source": [
        "Y_predictive_teste\n",
        "#Como podemos observar o algoritmo foi bastante acertivo, retornando previsões contendo os mesmos dados originais"
      ],
      "metadata": {
        "id": "2az093xUOssq"
      },
      "execution_count": null,
      "outputs": []
    },
    {
      "cell_type": "code",
      "source": [
        "confusion_matrix(Y_predictive_teste, previsoes2)\n",
        "#Como podemos observar, é possível verificar que 2385 máquinas não sofreram falhas e somente 27 foram classificados como que \"sofreram falhas\"\n",
        "#E de 31 máquinas \"que sofreram falhas\" 57 foram classificadas \"que sofrem falhas\"/ Como verificado este algoritmo é bastante eficiente"
      ],
      "metadata": {
        "id": "9-82XhBzArsW"
      },
      "execution_count": null,
      "outputs": []
    },
    {
      "cell_type": "code",
      "source": [
        "#Medindo a previsão\n",
        "from sklearn.metrics import accuracy_score"
      ],
      "metadata": {
        "id": "wH8raIbgQja6"
      },
      "execution_count": 78,
      "outputs": []
    },
    {
      "cell_type": "code",
      "source": [
        "accuracy_score(Y_predictive_teste, previsoes2)\n",
        "#Como verificado, 97% de confiabilidade, ou seja uma precisão bastante elevada"
      ],
      "metadata": {
        "id": "cwpkXt4lQnJ0"
      },
      "execution_count": null,
      "outputs": []
    },
    {
      "cell_type": "markdown",
      "source": [
        "# Algoritmo de Random Forest (Floresta Randômica)"
      ],
      "metadata": {
        "id": "amE3HHpThffr"
      }
    },
    {
      "cell_type": "markdown",
      "source": [
        "Este algoritmo é uma extensão da Árvore de Decisão, ele se caracteriza como um conjunto de árvores de decisão"
      ],
      "metadata": {
        "id": "XDgqCIQzhvrG"
      }
    },
    {
      "cell_type": "code",
      "source": [
        "#Importando a biblioteca\n",
        "from sklearn.ensemble import RandomForestClassifier"
      ],
      "metadata": {
        "id": "SWZp9pXHhpbp"
      },
      "execution_count": 80,
      "outputs": []
    },
    {
      "cell_type": "code",
      "source": [
        "import pickle\n",
        "with open('/content/predictive.pkl', 'rb') as f:  \n",
        "  X_predictive_treinamento, Y_predictive_treinamento, X_predictive_teste, Y_predictive_teste = pickle.load(f)"
      ],
      "metadata": {
        "id": "pDdrezvsiOlW"
      },
      "execution_count": 81,
      "outputs": []
    },
    {
      "cell_type": "code",
      "source": [
        "#Conferindo se arquivos foram devidamente carregados\n",
        "X_predictive_treinamento.shape, Y_predictive_treinamento.shape"
      ],
      "metadata": {
        "id": "CnQYbfj9ilSg"
      },
      "execution_count": null,
      "outputs": []
    },
    {
      "cell_type": "code",
      "source": [
        "X_predictive_teste.shape, Y_predictive_teste.shape"
      ],
      "metadata": {
        "id": "W_oqEXDTiz-h"
      },
      "execution_count": null,
      "outputs": []
    },
    {
      "cell_type": "code",
      "source": [
        "from sklearn.preprocessing import LabelEncoder\n",
        "le = LabelEncoder()\n",
        "Y_predictive_treinamento = le.fit_transform(Y_predictive_treinamento)"
      ],
      "metadata": {
        "id": "0ccQHG4Gi9vP"
      },
      "execution_count": 84,
      "outputs": []
    },
    {
      "cell_type": "code",
      "source": [
        "#Criando a Floresta\n",
        "#n_estimators é o número de árvores que desejamos criar\n",
        "from scipy.sparse.construct import random\n",
        "random_forest_predictive = RandomForestClassifier(n_estimators=10, criterion='entropy', random_state = 0)\n",
        "random_forest_predictive.fit(X_predictive_treinamento, Y_predictive_treinamento)"
      ],
      "metadata": {
        "id": "nw2JhQsRjGKv"
      },
      "execution_count": null,
      "outputs": []
    },
    {
      "cell_type": "code",
      "source": [
        "#Criando previsões\n",
        "previsoes3 = random_forest_predictive.predict(X_predictive_teste)\n",
        "previsoes3"
      ],
      "metadata": {
        "id": "oaInKgdWjy1-"
      },
      "execution_count": null,
      "outputs": []
    },
    {
      "cell_type": "code",
      "source": [
        "Y_predictive_teste\n",
        "#Novamente possível notar uma confiabilidade bastante acertiva, onde o algoritmo faz as previsões de forma correta"
      ],
      "metadata": {
        "id": "cXad0E2hkCYA"
      },
      "execution_count": null,
      "outputs": []
    },
    {
      "cell_type": "code",
      "source": [
        "confusion_matrix(Y_predictive_teste, previsoes3)\n",
        "#Como podemos observar, é possível verificar que 2401 máquinas não sofreram falhas e somente 11 foram classificados como que \"sofreram falhas\"\n",
        "#E de 34 máquinas \"que sofreram falhas\" 54 foram classificadas \"que sofrem falhas\"/ Como verificado este algoritmo é bastante eficiente"
      ],
      "metadata": {
        "id": "anCIYc4uBI_-"
      },
      "execution_count": null,
      "outputs": []
    },
    {
      "cell_type": "code",
      "source": [
        "#Medindo nível de confiabilidade\n",
        "from sklearn.metrics import accuracy_score\n",
        "accuracy_score(Y_predictive_teste, previsoes3)"
      ],
      "metadata": {
        "id": "Z6fCGpJfkaDp"
      },
      "execution_count": null,
      "outputs": []
    },
    {
      "cell_type": "markdown",
      "source": [
        "# Conclusão"
      ],
      "metadata": {
        "id": "M3pc-9AF9qHY"
      }
    },
    {
      "cell_type": "code",
      "source": [
        "'''\n",
        "Como visto anteriormente, neste projeto foram utilizados 3 algoritmos de Machine Learning sendo eles: Algoritmo de Naive Bayes, Decision Tree,\n",
        "e Random Forest, cada um com suas particularidades, de modo geral a aplicação destes algoritmos nesta base de dados foi bastante eficiente,\n",
        "retornando valores fiés aos dados da base original, todos três com alto índice de confiabilidade, logo abaixo é possível notar que o Algoritmo\n",
        "Random Forest foi o mais preciso dos 3, com 98% de nível de confiabilidade, em segundo lugar o Algoritmo Decision Tree com 97% e por ultimo e \n",
        "não menos importante o Algoritmo de Naive Bayes com 96% \n",
        "\n",
        "Logo abaixo é possível verificar os algoritmos por ordem de precisão e os seus respectivos resultados, valendo ressaltar que todos os três \n",
        "trouxeram resultados bastante precisos.\n",
        "\n",
        "\n",
        "'''"
      ],
      "metadata": {
        "id": "RLWodAhk9tcW"
      },
      "execution_count": null,
      "outputs": []
    },
    {
      "cell_type": "code",
      "source": [
        "# Random Forest (Floresta Randômica)\n",
        "from yellowbrick.classifier import ConfusionMatrix\n",
        "cm = ConfusionMatrix(random_forest_predictive)\n",
        "cm.fit(X_predictive_treinamento, Y_predictive_treinamento)\n",
        "cm.score(X_predictive_teste, Y_predictive_teste)"
      ],
      "metadata": {
        "id": "Ns7BxAMPlfVH"
      },
      "execution_count": null,
      "outputs": []
    },
    {
      "cell_type": "code",
      "source": [
        "'''\n",
        "Como podemos observar, é possível verificar que 2401 máquinas não sofreram falhas e somente 11 foram classificados como que 'sofreram falhas'\n",
        "E de 34 máquinas \"que sofreram falhas\" 54 foram classificadas que 'sofrem falhas'\n",
        "'''"
      ],
      "metadata": {
        "id": "12wssXbomcGF"
      },
      "execution_count": null,
      "outputs": []
    },
    {
      "cell_type": "code",
      "source": [
        "#Decision Tree (Árvore de decisão)\n",
        "from yellowbrick.classifier import ConfusionMatrix\n",
        "cm = ConfusionMatrix(arvore_predictive)\n",
        "cm.fit(X_predictive_treinamento, Y_predictive_treinamento)\n",
        "cm.score(X_predictive_teste, Y_predictive_teste)"
      ],
      "metadata": {
        "id": "UFLGIM1zSe4a"
      },
      "execution_count": null,
      "outputs": []
    },
    {
      "cell_type": "code",
      "source": [
        "'''\n",
        "É possível verificar que 2385 máquinas não sofreram falhas e somente 27 foram classificados como que \"sofreram falhas\"\n",
        "E de 31 máquinas \"que sofreram falhas\" 57 foram classificadas \"que sofrem falhas\".\n",
        "'''"
      ],
      "metadata": {
        "id": "8aNw-j8KSfXq"
      },
      "execution_count": null,
      "outputs": []
    },
    {
      "cell_type": "code",
      "source": [
        "#Algoritmo de Naive Bayes\n",
        "cm = ConfusionMatrix(naive_predictive)\n",
        "cm.fit(X_predictive_treinamento, Y_predictive_treinamento)\n",
        "cm.score(X_predictive_teste, Y_predictive_teste)"
      ],
      "metadata": {
        "id": "i3gteJuNrGys"
      },
      "execution_count": null,
      "outputs": []
    },
    {
      "cell_type": "code",
      "source": [
        "'''\n",
        "Como podemos observar, é possível verificar que 2387 máquinas não sofrem falhas e 25 sofrem\n",
        "E de 72 máquinas que sofrem falhas 16 foram classificadas que \"sofrem falhas\"\n",
        "'''"
      ],
      "metadata": {
        "id": "cqAANlfyDb1u"
      },
      "execution_count": null,
      "outputs": []
    }
  ]
}